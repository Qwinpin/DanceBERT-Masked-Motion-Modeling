{
 "cells": [
  {
   "cell_type": "code",
   "execution_count": null,
   "metadata": {},
   "outputs": [],
   "source": [
    "!nvidia-smi"
   ]
  },
  {
   "cell_type": "code",
   "execution_count": null,
   "metadata": {},
   "outputs": [],
   "source": [
    "import joblib"
   ]
  },
  {
   "cell_type": "code",
   "execution_count": null,
   "metadata": {},
   "outputs": [],
   "source": [
    "import sys\n",
    "sys.path.append('utils/PyMO/')"
   ]
  },
  {
   "cell_type": "code",
   "execution_count": null,
   "metadata": {},
   "outputs": [],
   "source": [
    "import sys\n",
    "sys.path.append('utils/PyMO/pymo/')"
   ]
  },
  {
   "cell_type": "code",
   "execution_count": null,
   "metadata": {},
   "outputs": [],
   "source": [
    "from pymo.parsers import BVHParser\n",
    "import writers"
   ]
  },
  {
   "cell_type": "code",
   "execution_count": null,
   "metadata": {},
   "outputs": [],
   "source": [
    "import numpy as np\n",
    "import random"
   ]
  },
  {
   "cell_type": "code",
   "execution_count": null,
   "metadata": {},
   "outputs": [],
   "source": [
    "import os"
   ]
  },
  {
   "cell_type": "code",
   "execution_count": null,
   "metadata": {},
   "outputs": [],
   "source": []
  },
  {
   "cell_type": "code",
   "execution_count": null,
   "metadata": {},
   "outputs": [],
   "source": [
    "p = BVHParser()\n",
    "\n",
    "data_all = [(path, p.parse('data/lafan1/{}'.format(path))) for path in os.listdir('data/lafan1/') if 'subject' in path]"
   ]
  },
  {
   "cell_type": "code",
   "execution_count": null,
   "metadata": {},
   "outputs": [],
   "source": [
    "train_actors = ['subject1', 'subject2', 'subject3', 'subject4']\n",
    "test_actors = ['subject5']"
   ]
  },
  {
   "cell_type": "code",
   "execution_count": null,
   "metadata": {
    "scrolled": true
   },
   "outputs": [],
   "source": [
    "from scipy.spatial.transform import Rotation as R"
   ]
  },
  {
   "cell_type": "code",
   "execution_count": null,
   "metadata": {
    "scrolled": true
   },
   "outputs": [],
   "source": [
    "test = R.from_euler('zyx', data_all.values[0:1].values.reshape(23, 3), True)"
   ]
  },
  {
   "cell_type": "code",
   "execution_count": null,
   "metadata": {},
   "outputs": [],
   "source": [
    "poses_unflat = {}"
   ]
  },
  {
   "cell_type": "code",
   "execution_count": null,
   "metadata": {
    "scrolled": true
   },
   "outputs": [],
   "source": [
    "for path, data in data_all:\n",
    "    try:\n",
    "        poses = data.values.values\n",
    "        trace = poses[:, :3].reshape(poses.shape[0], 3)\n",
    "        poses = poses[:, 3:].reshape(poses.shape[0], 22, 3)\n",
    "        poses = np.array([R.from_euler('zyx', pose, True).as_matrix().reshape(22 * 3 * 3) for pose in poses])\n",
    "        \n",
    "        poses_unflat[path.split('/')[-1]] = np.concatenate([poses, trace], 1)\n",
    "    except KeyboardInterrupt:\n",
    "        raise\n",
    "    except Exception as e:\n",
    "        print(path, e)"
   ]
  },
  {
   "cell_type": "code",
   "execution_count": null,
   "metadata": {},
   "outputs": [],
   "source": [
    "len(poses_unflat)"
   ]
  },
  {
   "cell_type": "code",
   "execution_count": null,
   "metadata": {},
   "outputs": [],
   "source": [
    "real_samples_dataset_180 = []\n",
    "real_samples_dataset_300 = []"
   ]
  },
  {
   "cell_type": "code",
   "execution_count": null,
   "metadata": {
    "scrolled": true
   },
   "outputs": [],
   "source": [
    "for key, value in poses_unflat.items():\n",
    "    if 'subject5' in key:\n",
    "        types = 'test'\n",
    "    else:\n",
    "        types = 'train'\n",
    "    print(key)\n",
    "    for split in np.array(range(value.shape[0]))[::300]:\n",
    "        \n",
    "        tmp = {}\n",
    "\n",
    "        if value[split:split+180].shape[0] == 180:\n",
    "            tmp['type'] = types\n",
    "            tmp['pose'] = value[split:split+180]\n",
    "            real_samples_dataset_180.append(tmp)\n",
    "\n",
    "#             tmp = value[split:split+300]\n",
    "        tmp = {}\n",
    "\n",
    "        if value[split:split+300].shape[0] == 300:\n",
    "            tmp['type'] = types\n",
    "            tmp['pose'] = value[split:split+300]\n",
    "            real_samples_dataset_300.append(tmp)"
   ]
  },
  {
   "cell_type": "code",
   "execution_count": null,
   "metadata": {},
   "outputs": [],
   "source": []
  },
  {
   "cell_type": "code",
   "execution_count": null,
   "metadata": {},
   "outputs": [],
   "source": [
    "real_samples_dataset_full = []"
   ]
  },
  {
   "cell_type": "code",
   "execution_count": null,
   "metadata": {
    "scrolled": true
   },
   "outputs": [],
   "source": [
    "for key, value in poses_unflat.items():\n",
    "    if 'subject5' in key:\n",
    "        types = 'test\n",
    "    else:\n",
    "        types = 'train'\n",
    "\n",
    "    tmp = {}\n",
    "\n",
    "    tmp['type'] = types\n",
    "    tmp['pose'] = value\n",
    "    real_samples_dataset_full.append(tmp)"
   ]
  },
  {
   "cell_type": "code",
   "execution_count": null,
   "metadata": {},
   "outputs": [],
   "source": [
    "np.save('data/processed/ubisoft.rotation_matrix.full', real_samples_dataset_full)"
   ]
  },
  {
   "cell_type": "code",
   "execution_count": null,
   "metadata": {},
   "outputs": [],
   "source": [
    "real_samples_dataset_300 = np.array(real_samples_dataset_300)"
   ]
  },
  {
   "cell_type": "code",
   "execution_count": null,
   "metadata": {},
   "outputs": [],
   "source": [
    "real_samples_dataset_180 = np.array(real_samples_dataset_180)"
   ]
  },
  {
   "cell_type": "code",
   "execution_count": null,
   "metadata": {},
   "outputs": [],
   "source": [
    "np.save('data/processed/ubisoft.rotation_matrix.300', real_samples_dataset_300)"
   ]
  },
  {
   "cell_type": "code",
   "execution_count": null,
   "metadata": {},
   "outputs": [],
   "source": [
    "np.save('data/processed/ubisoft.rotation_matrix.180', real_samples_dataset_180)"
   ]
  }
 ],
 "metadata": {
  "kernelspec": {
   "display_name": "Python 3",
   "language": "python",
   "name": "python3"
  },
  "language_info": {
   "codemirror_mode": {
    "name": "ipython",
    "version": 3
   },
   "file_extension": ".py",
   "mimetype": "text/x-python",
   "name": "python",
   "nbconvert_exporter": "python",
   "pygments_lexer": "ipython3",
   "version": "3.6.9"
  }
 },
 "nbformat": 4,
 "nbformat_minor": 2
}
